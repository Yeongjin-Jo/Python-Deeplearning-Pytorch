{
 "cells": [
  {
   "cell_type": "markdown",
   "id": "c017d2bf",
   "metadata": {},
   "source": [
    "# MNIST를 이용해 MLP 설계하기"
   ]
  },
  {
   "cell_type": "markdown",
   "id": "c25bc12a",
   "metadata": {},
   "source": [
    "## MLP 모델 설계 순서 \n",
    "- 1. 모듈 임포트하기\n",
    "- 2. 딥러닝 모델을 설계할 때 사용되는 장비 확인하기 \n",
    "- 3. MNIST 데이터 다운로드 하기 (Train set, Test set 분리하기) \n",
    "- 4. 데이터 확인하기 (1)\n",
    "- 5. 데이터 확인하기 (2)\n",
    "- 6. MLP 모델 설계하기\n",
    "- 7. Optimizer, Objective Function 설정하기\n",
    "- 8. MLP 모델 학습을 진행하면서 학습 데이터에 대한 모델 성능을 확인하는 함수 정의하기\n",
    "- 9. 학습되는 과정 속에서 검증 데이터에 대한 모델 성능을 확인하는 함수 정의하기\n",
    "- 10. MLP 학습을 실행하면서 Train, Test set의 Loss 및 Test Accuracy를 확인하기 "
   ]
  },
  {
   "cell_type": "markdown",
   "id": "e8f629b9",
   "metadata": {},
   "source": [
    "- 1. 모듈 임포트하기"
   ]
  },
  {
   "cell_type": "code",
   "execution_count": 1,
   "id": "8e5633c9",
   "metadata": {},
   "outputs": [],
   "source": [
    "import numpy as np\n",
    "import matplotlib.pyplot as plt\n",
    "import torch \n",
    "import torch.nn as nn\n",
    "import torch.nn.functional as F\n",
    "from torchvision import transforms, datasets"
   ]
  },
  {
   "cell_type": "markdown",
   "id": "2ec8ccf0",
   "metadata": {},
   "source": [
    "- 2. 딥러닝 모델을 설계할 때 사용하는 장비 확인하기 "
   ]
  },
  {
   "cell_type": "code",
   "execution_count": 2,
   "id": "44b60c1e",
   "metadata": {},
   "outputs": [
    {
     "name": "stdout",
     "output_type": "stream",
     "text": [
      "Pytorch Version:  1.7.1 Device:  cuda\n"
     ]
    }
   ],
   "source": [
    "if torch.cuda.is_available():\n",
    "    DEVICE = torch.device('cuda')\n",
    "else:\n",
    "    DEVICE = torch.device('cpu')\n",
    "\n",
    "print(\"Pytorch Version: \", torch.__version__, \"Device: \", DEVICE)"
   ]
  },
  {
   "cell_type": "code",
   "execution_count": 3,
   "id": "30392072",
   "metadata": {},
   "outputs": [],
   "source": [
    "BATCH_SIZE = 32\n",
    "EPOCHS = 10 "
   ]
  },
  {
   "cell_type": "markdown",
   "id": "c38dcb10",
   "metadata": {},
   "source": [
    "- 3. MNIST 데이터 다운로드 하기 (Train set, Test set 분리하기) "
   ]
  },
  {
   "cell_type": "code",
   "execution_count": 4,
   "id": "97ecff40",
   "metadata": {},
   "outputs": [],
   "source": [
    "train_dataset = datasets.MNIST(root = \"../root/MNIST\",\n",
    "                              train = True,\n",
    "                              download = True,\n",
    "                              transform = transforms.ToTensor())\n",
    "test_dataset = datasets.MNIST(root = \"../root/MNIST\",\n",
    "                             train = False,\n",
    "                             download = True,\n",
    "                             transform = transforms.ToTensor())\n",
    "train_loader = torch.utils.data.DataLoader(dataset = train_dataset,\n",
    "                                          batch_size = BATCH_SIZE,\n",
    "                                          shuffle = True)\n",
    "test_loader = torch.utils.data.DataLoader(dataset = test_dataset,\n",
    "                                         batch_size = BATCH_SIZE,\n",
    "                                         shuffle = False)"
   ]
  },
  {
   "cell_type": "markdown",
   "id": "ef381dbe",
   "metadata": {},
   "source": [
    "- 4. 데이터 확인하기 (1)"
   ]
  },
  {
   "cell_type": "code",
   "execution_count": 5,
   "id": "ab14af90",
   "metadata": {},
   "outputs": [
    {
     "name": "stdout",
     "output_type": "stream",
     "text": [
      "X_train:  torch.Size([32, 1, 28, 28]) dtype:  torch.FloatTensor\n",
      "y_train:  torch.Size([32]) dtype:  torch.LongTensor\n"
     ]
    }
   ],
   "source": [
    "for (X_train, y_train) in train_loader:\n",
    "    print('X_train: ', X_train.shape, 'dtype: ', X_train.type())\n",
    "    print('y_train: ', y_train.shape, 'dtype: ', y_train.type())\n",
    "    break"
   ]
  },
  {
   "cell_type": "markdown",
   "id": "d0f37164",
   "metadata": {},
   "source": [
    "- 5. 데이터 확인하기 (2)"
   ]
  },
  {
   "cell_type": "code",
   "execution_count": 6,
   "id": "843c665e",
   "metadata": {},
   "outputs": [
    {
     "data": {
      "image/png": "[encoded data removed]",
      "text/plain": [
       "<Figure size 720x72 with 10 Axes>"
      ]
     },
     "metadata": {
      "needs_background": "light"
     },
     "output_type": "display_data"
    }
   ],
   "source": [
    "pltsize = 1\n",
    "plt.figure(figsize = (10*pltsize, pltsize))\n",
    "for i in range(10):\n",
    "    plt.subplot(1, 10, i+1)\n",
    "    plt.axis('off')\n",
    "    plt.imshow(X_train[i,:,:,:].numpy().reshape(28,28), cmap = 'gray')\n",
    "    plt.title('Class: ' + str(y_train[i].item()))"
   ]
  },
  {
   "cell_type": "markdown",
   "id": "84d382f3",
   "metadata": {},
   "source": [
    "- 6. MLP 모델 설계하기 "
   ]
  },
  {
   "cell_type": "code",
   "execution_count": 7,
   "id": "af7be93a",
   "metadata": {},
   "outputs": [],
   "source": [
    "class Net(nn.Module):\n",
    "    def __init__(self):\n",
    "        super(Net, self).__init__()\n",
    "        self.fc1 = nn.Linear(28*28, 512)\n",
    "        self.fc2 = nn.Linear(512, 256)\n",
    "        self.fc3 = nn.Linear(256,10)\n",
    "    \n",
    "    def forward(self, x):\n",
    "        x = x.view(-1,28*28)\n",
    "        x = self.fc1(x)\n",
    "        x = F.sigmoid(x)\n",
    "        x = self.fc2(x)\n",
    "        x = F.sigmoid(x)\n",
    "        x = self.fc3(x)\n",
    "        x = F.log_softmax(x, dim=1)\n",
    "        return x "
   ]
  },
  {
   "cell_type": "markdown",
   "id": "70550c68",
   "metadata": {},
   "source": [
    "- 7. Optimizer, Objective Function 설정하기 "
   ]
  },
  {
   "cell_type": "code",
   "execution_count": 8,
   "id": "1e4cfe04",
   "metadata": {
    "scrolled": false
   },
   "outputs": [
    {
     "name": "stdout",
     "output_type": "stream",
     "text": [
      "Net(\n",
      "  (fc1): Linear(in_features=784, out_features=512, bias=True)\n",
      "  (fc2): Linear(in_features=512, out_features=256, bias=True)\n",
      "  (fc3): Linear(in_features=256, out_features=10, bias=True)\n",
      ")\n"
     ]
    }
   ],
   "source": [
    "model = Net().to(DEVICE)\n",
    "optimizer = torch.optim.SGD(model.parameters(), lr = 0.01, momentum=0.5)\n",
    "criterion = nn.CrossEntropyLoss()\n",
    "\n",
    "print(model)"
   ]
  },
  {
   "cell_type": "markdown",
   "id": "8b51daf7",
   "metadata": {},
   "source": [
    "- 8. MLP 모델 학습을 진행하며 학습 데이터에 대한 모델 성능을 확인하는 함수 정의"
   ]
  },
  {
   "cell_type": "code",
   "execution_count": 9,
   "id": "bb106cc4",
   "metadata": {},
   "outputs": [],
   "source": [
    "def train(model, train_loader, optimizer, log_interval):\n",
    "    model.train()\n",
    "    for batch_idx, (image, label) in enumerate(train_loader):\n",
    "        image = image.to(DEVICE)\n",
    "        label = label.to(DEVICE)\n",
    "        optimizer.zero_grad()\n",
    "        output = model(image)\n",
    "        loss = criterion(output, label)\n",
    "        loss.backward()\n",
    "        optimizer.step()\n",
    "        \n",
    "        if batch_idx % log_interval == 0:\n",
    "            print(\"Train Epoch: {} [{}/{} ({:.0f}%)]\\tTrain Loss: {:.6f}\"\n",
    "                 .format(Epoch, batch_idx*len(image), len(train_loader.dataset), 100.* batch_idx / len(train_loader), loss.item()))"
   ]
  },
  {
   "cell_type": "markdown",
   "id": "76bf1522",
   "metadata": {},
   "source": [
    "- 9. 학습되는 과정 속에서 검증 데이터에 대한 모델 성능을 확인하는 함수 정의 "
   ]
  },
  {
   "cell_type": "code",
   "execution_count": 10,
   "id": "c7cc9cb7",
   "metadata": {},
   "outputs": [],
   "source": [
    "def evaluate(model, test_loader):\n",
    "    model.eval()\n",
    "    test_loss = 0\n",
    "    correct = 0\n",
    "    \n",
    "    with torch.no_grad():\n",
    "        for image, label in test_loader:\n",
    "            image = image.to(DEVICE)\n",
    "            label = label.to(DEVICE)\n",
    "            output = model(image)\n",
    "            test_loss += criterion(output, label)\n",
    "            prediction = output.max(1, keepdim=True)[1]\n",
    "            correct += prediction.eq(label.view_as(prediction)).sum().item()\n",
    "            \n",
    "    test_loss /= len(test_loader)\n",
    "    test_accuracy = 100. * correct / len(test_loader.dataset)\n",
    "    return test_loss, test_accuracy"
   ]
  },
  {
   "cell_type": "markdown",
   "id": "f50613c5",
   "metadata": {},
   "source": [
    "- 10. MLP학습을 실행하면서 Train, Test set의 Loss 및 Test set Accuracy를 확인하기"
   ]
  },
  {
   "cell_type": "code",
   "execution_count": 11,
   "id": "6ffa9f7b",
   "metadata": {},
   "outputs": [
    {
     "name": "stderr",
     "output_type": "stream",
     "text": [
      "C:\\Users\\Administrator\\anaconda3\\envs\\Python-Deeplearning-Pytorch\\lib\\site-packages\\torch\\nn\\functional.py:1639: UserWarning: nn.functional.sigmoid is deprecated. Use torch.sigmoid instead.\n",
      "  warnings.warn(\"nn.functional.sigmoid is deprecated. Use torch.sigmoid instead.\")\n"
     ]
    },
    {
     "name": "stdout",
     "output_type": "stream",
     "text": [
      "Train Epoch: 1 [0/60000 (0%)]\tTrain Loss: 2.354259\n",
      "Train Epoch: 1 [6400/60000 (11%)]\tTrain Loss: 2.255281\n",
      "Train Epoch: 1 [12800/60000 (21%)]\tTrain Loss: 2.351770\n",
      "Train Epoch: 1 [19200/60000 (32%)]\tTrain Loss: 2.281311\n",
      "Train Epoch: 1 [25600/60000 (43%)]\tTrain Loss: 2.276971\n",
      "Train Epoch: 1 [32000/60000 (53%)]\tTrain Loss: 2.299527\n",
      "Train Epoch: 1 [38400/60000 (64%)]\tTrain Loss: 2.348209\n",
      "Train Epoch: 1 [44800/60000 (75%)]\tTrain Loss: 2.226395\n",
      "Train Epoch: 1 [51200/60000 (85%)]\tTrain Loss: 2.241946\n",
      "Train Epoch: 1 [57600/60000 (96%)]\tTrain Loss: 2.243711\n",
      "\n",
      "[EPOCH: 1], \tTest Loss: 2.2300, \tTest Accuracy: 26.18 %\n",
      "\n",
      "Train Epoch: 2 [0/60000 (0%)]\tTrain Loss: 2.263258\n",
      "Train Epoch: 2 [6400/60000 (11%)]\tTrain Loss: 2.142636\n",
      "Train Epoch: 2 [12800/60000 (21%)]\tTrain Loss: 2.201461\n",
      "Train Epoch: 2 [19200/60000 (32%)]\tTrain Loss: 1.881355\n",
      "Train Epoch: 2 [25600/60000 (43%)]\tTrain Loss: 1.998119\n",
      "Train Epoch: 2 [32000/60000 (53%)]\tTrain Loss: 1.741734\n",
      "Train Epoch: 2 [38400/60000 (64%)]\tTrain Loss: 1.819287\n",
      "Train Epoch: 2 [44800/60000 (75%)]\tTrain Loss: 1.713972\n",
      "Train Epoch: 2 [51200/60000 (85%)]\tTrain Loss: 1.369752\n",
      "Train Epoch: 2 [57600/60000 (96%)]\tTrain Loss: 1.298242\n",
      "\n",
      "[EPOCH: 2], \tTest Loss: 1.2933, \tTest Accuracy: 60.14 %\n",
      "\n",
      "Train Epoch: 3 [0/60000 (0%)]\tTrain Loss: 1.037989\n",
      "Train Epoch: 3 [6400/60000 (11%)]\tTrain Loss: 1.242917\n",
      "Train Epoch: 3 [12800/60000 (21%)]\tTrain Loss: 1.559648\n",
      "Train Epoch: 3 [19200/60000 (32%)]\tTrain Loss: 0.958420\n",
      "Train Epoch: 3 [25600/60000 (43%)]\tTrain Loss: 0.945565\n",
      "Train Epoch: 3 [32000/60000 (53%)]\tTrain Loss: 0.811751\n",
      "Train Epoch: 3 [38400/60000 (64%)]\tTrain Loss: 0.806595\n",
      "Train Epoch: 3 [44800/60000 (75%)]\tTrain Loss: 0.820367\n",
      "Train Epoch: 3 [51200/60000 (85%)]\tTrain Loss: 1.183112\n",
      "Train Epoch: 3 [57600/60000 (96%)]\tTrain Loss: 0.628518\n",
      "\n",
      "[EPOCH: 3], \tTest Loss: 0.7494, \tTest Accuracy: 77.56 %\n",
      "\n",
      "Train Epoch: 4 [0/60000 (0%)]\tTrain Loss: 0.687079\n",
      "Train Epoch: 4 [6400/60000 (11%)]\tTrain Loss: 0.752268\n",
      "Train Epoch: 4 [12800/60000 (21%)]\tTrain Loss: 0.770068\n",
      "Train Epoch: 4 [19200/60000 (32%)]\tTrain Loss: 0.578553\n",
      "Train Epoch: 4 [25600/60000 (43%)]\tTrain Loss: 0.596836\n",
      "Train Epoch: 4 [32000/60000 (53%)]\tTrain Loss: 0.590103\n",
      "Train Epoch: 4 [38400/60000 (64%)]\tTrain Loss: 0.564996\n",
      "Train Epoch: 4 [44800/60000 (75%)]\tTrain Loss: 0.577169\n",
      "Train Epoch: 4 [51200/60000 (85%)]\tTrain Loss: 0.636251\n",
      "Train Epoch: 4 [57600/60000 (96%)]\tTrain Loss: 0.382872\n",
      "\n",
      "[EPOCH: 4], \tTest Loss: 0.5524, \tTest Accuracy: 84.25 %\n",
      "\n",
      "Train Epoch: 5 [0/60000 (0%)]\tTrain Loss: 0.490822\n",
      "Train Epoch: 5 [6400/60000 (11%)]\tTrain Loss: 0.745670\n",
      "Train Epoch: 5 [12800/60000 (21%)]\tTrain Loss: 0.561950\n",
      "Train Epoch: 5 [19200/60000 (32%)]\tTrain Loss: 0.440201\n",
      "Train Epoch: 5 [25600/60000 (43%)]\tTrain Loss: 0.435415\n",
      "Train Epoch: 5 [32000/60000 (53%)]\tTrain Loss: 0.592534\n",
      "Train Epoch: 5 [38400/60000 (64%)]\tTrain Loss: 0.622650\n",
      "Train Epoch: 5 [44800/60000 (75%)]\tTrain Loss: 0.380046\n",
      "Train Epoch: 5 [51200/60000 (85%)]\tTrain Loss: 0.354241\n",
      "Train Epoch: 5 [57600/60000 (96%)]\tTrain Loss: 0.588737\n",
      "\n",
      "[EPOCH: 5], \tTest Loss: 0.4551, \tTest Accuracy: 86.78 %\n",
      "\n",
      "Train Epoch: 6 [0/60000 (0%)]\tTrain Loss: 0.602394\n",
      "Train Epoch: 6 [6400/60000 (11%)]\tTrain Loss: 0.604080\n",
      "Train Epoch: 6 [12800/60000 (21%)]\tTrain Loss: 0.445022\n",
      "Train Epoch: 6 [19200/60000 (32%)]\tTrain Loss: 0.296245\n",
      "Train Epoch: 6 [25600/60000 (43%)]\tTrain Loss: 0.502491\n",
      "Train Epoch: 6 [32000/60000 (53%)]\tTrain Loss: 0.539980\n",
      "Train Epoch: 6 [38400/60000 (64%)]\tTrain Loss: 0.373825\n",
      "Train Epoch: 6 [44800/60000 (75%)]\tTrain Loss: 0.415879\n",
      "Train Epoch: 6 [51200/60000 (85%)]\tTrain Loss: 0.577028\n",
      "Train Epoch: 6 [57600/60000 (96%)]\tTrain Loss: 0.396556\n",
      "\n",
      "[EPOCH: 6], \tTest Loss: 0.4055, \tTest Accuracy: 88.38 %\n",
      "\n",
      "Train Epoch: 7 [0/60000 (0%)]\tTrain Loss: 0.267450\n",
      "Train Epoch: 7 [6400/60000 (11%)]\tTrain Loss: 0.575612\n",
      "Train Epoch: 7 [12800/60000 (21%)]\tTrain Loss: 0.318350\n",
      "Train Epoch: 7 [19200/60000 (32%)]\tTrain Loss: 0.439483\n",
      "Train Epoch: 7 [25600/60000 (43%)]\tTrain Loss: 0.327508\n",
      "Train Epoch: 7 [32000/60000 (53%)]\tTrain Loss: 0.523934\n",
      "Train Epoch: 7 [38400/60000 (64%)]\tTrain Loss: 0.388694\n",
      "Train Epoch: 7 [44800/60000 (75%)]\tTrain Loss: 0.186754\n",
      "Train Epoch: 7 [51200/60000 (85%)]\tTrain Loss: 0.449956\n",
      "Train Epoch: 7 [57600/60000 (96%)]\tTrain Loss: 0.236417\n",
      "\n",
      "[EPOCH: 7], \tTest Loss: 0.3854, \tTest Accuracy: 88.27 %\n",
      "\n",
      "Train Epoch: 8 [0/60000 (0%)]\tTrain Loss: 0.389145\n",
      "Train Epoch: 8 [6400/60000 (11%)]\tTrain Loss: 0.215984\n",
      "Train Epoch: 8 [12800/60000 (21%)]\tTrain Loss: 0.270397\n",
      "Train Epoch: 8 [19200/60000 (32%)]\tTrain Loss: 0.409161\n",
      "Train Epoch: 8 [25600/60000 (43%)]\tTrain Loss: 0.322111\n",
      "Train Epoch: 8 [32000/60000 (53%)]\tTrain Loss: 0.667822\n",
      "Train Epoch: 8 [38400/60000 (64%)]\tTrain Loss: 0.379436\n",
      "Train Epoch: 8 [44800/60000 (75%)]\tTrain Loss: 0.304519\n",
      "Train Epoch: 8 [51200/60000 (85%)]\tTrain Loss: 0.157083\n",
      "Train Epoch: 8 [57600/60000 (96%)]\tTrain Loss: 0.334090\n",
      "\n",
      "[EPOCH: 8], \tTest Loss: 0.3606, \tTest Accuracy: 89.52 %\n",
      "\n",
      "Train Epoch: 9 [0/60000 (0%)]\tTrain Loss: 0.527551\n",
      "Train Epoch: 9 [6400/60000 (11%)]\tTrain Loss: 0.204579\n",
      "Train Epoch: 9 [12800/60000 (21%)]\tTrain Loss: 0.353048\n",
      "Train Epoch: 9 [19200/60000 (32%)]\tTrain Loss: 0.355135\n",
      "Train Epoch: 9 [25600/60000 (43%)]\tTrain Loss: 0.301111\n",
      "Train Epoch: 9 [32000/60000 (53%)]\tTrain Loss: 0.308793\n",
      "Train Epoch: 9 [38400/60000 (64%)]\tTrain Loss: 0.329662\n",
      "Train Epoch: 9 [44800/60000 (75%)]\tTrain Loss: 0.425650\n",
      "Train Epoch: 9 [51200/60000 (85%)]\tTrain Loss: 0.696977\n",
      "Train Epoch: 9 [57600/60000 (96%)]\tTrain Loss: 0.218132\n",
      "\n",
      "[EPOCH: 9], \tTest Loss: 0.3461, \tTest Accuracy: 89.97 %\n",
      "\n",
      "Train Epoch: 10 [0/60000 (0%)]\tTrain Loss: 0.468333\n",
      "Train Epoch: 10 [6400/60000 (11%)]\tTrain Loss: 0.201720\n",
      "Train Epoch: 10 [12800/60000 (21%)]\tTrain Loss: 0.079855\n",
      "Train Epoch: 10 [19200/60000 (32%)]\tTrain Loss: 0.307310\n",
      "Train Epoch: 10 [25600/60000 (43%)]\tTrain Loss: 0.341010\n",
      "Train Epoch: 10 [32000/60000 (53%)]\tTrain Loss: 0.423512\n",
      "Train Epoch: 10 [38400/60000 (64%)]\tTrain Loss: 0.233205\n",
      "Train Epoch: 10 [44800/60000 (75%)]\tTrain Loss: 0.435116\n",
      "Train Epoch: 10 [51200/60000 (85%)]\tTrain Loss: 0.267012\n",
      "Train Epoch: 10 [57600/60000 (96%)]\tTrain Loss: 0.260347\n",
      "\n",
      "[EPOCH: 10], \tTest Loss: 0.3354, \tTest Accuracy: 90.47 %\n",
      "\n"
     ]
    }
   ],
   "source": [
    "for Epoch in range(1,EPOCHS+1):\n",
    "    train(model, train_loader, optimizer, log_interval = 200)\n",
    "    test_loss, test_accuracy = evaluate(model, test_loader)\n",
    "    print(\"\\n[EPOCH: {}], \\tTest Loss: {:.4f}, \\tTest Accuracy: {:.2f} %\\n\"\n",
    "         .format(Epoch, test_loss, test_accuracy))"
   ]
  }
 ],
 "metadata": {
  "kernelspec": {
   "display_name": "Python 3 (ipykernel)",
   "language": "python",
   "name": "python3"
  },
  "language_info": {
   "codemirror_mode": {
    "name": "ipython",
    "version": 3
   },
   "file_extension": ".py",
   "mimetype": "text/x-python",
   "name": "python",
   "nbconvert_exporter": "python",
   "pygments_lexer": "ipython3",
   "version": "3.8.12"
  }
 },
 "nbformat": 4,
 "nbformat_minor": 5
}
