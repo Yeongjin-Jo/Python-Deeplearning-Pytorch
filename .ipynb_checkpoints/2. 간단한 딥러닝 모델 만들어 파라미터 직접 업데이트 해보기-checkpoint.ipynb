{
 "cells": [
  {
   "cell_type": "markdown",
   "metadata": {},
   "source": [
    "- CUDA 사용"
   ]
  },
  {
   "cell_type": "code",
   "execution_count": 1,
   "metadata": {},
   "outputs": [
    {
     "name": "stdout",
     "output_type": "stream",
     "text": [
      "cuda\n"
     ]
    }
   ],
   "source": [
    "import torch\n",
    "\n",
    "if torch.cuda.is_available():\n",
    "    DEVICE = torch.device('cuda')\n",
    "else:\n",
    "    DEVICE = torch.device('cpu')\n",
    "    \n",
    "print(DEVICE)"
   ]
  },
  {
   "cell_type": "markdown",
   "metadata": {},
   "source": [
    "- BATCH_SIZE : 배치 사이즈 \n",
    "- INPUT_SIZE : 입력 데이터의 크기 (Vector 크기)\n",
    "- HIDDEN_SIZE : 은닉층의 Node 수\n",
    "- OUTPUT_SIZE : 출력 데이터의 크기 (Vector 크기)"
   ]
  },
  {
   "cell_type": "code",
   "execution_count": 2,
   "metadata": {},
   "outputs": [],
   "source": [
    "BATCH_SIZE = 64\n",
    "INPUT_SIZE = 1000\n",
    "HIDDEN_SIZE = 100\n",
    "OUTPUT_SIZE = 10"
   ]
  },
  {
   "cell_type": "markdown",
   "metadata": {},
   "source": [
    "- x는 (64,1000) 크기의 입력 데이터 / autograd 기능 off (입력 데이터이기 때문)\n",
    "- y는 (64,10) 크기의 출력 데이터 / autograd 기능 off (출력 데이터이기 때문) \n",
    "- w1은 (1000,100)크기의 텐서 / 입력층의 크기 1000짜리 벡터가 은닉층의 100개의 파라미터를 모두 내적하기 위해 (1000,100) 크기의 텐서로 생성 / autograd 기능 on (파라미터 업데이트 필요) \n",
    "- w2는 (100,10) 크기의 텐서 / w1을 통해 나온 (1,100) 크기의 결과를 출력 데이터 크기 10에 맞추어 내적 / autograd 기능 on (파라미터 업데이트 필요)"
   ]
  },
  {
   "cell_type": "code",
   "execution_count": 3,
   "metadata": {},
   "outputs": [],
   "source": [
    "x = torch.randn(BATCH_SIZE,\n",
    "               INPUT_SIZE,\n",
    "               device = DEVICE,\n",
    "               dtype = torch.float,\n",
    "               requires_grad = False)\n",
    "y = torch.randn(BATCH_SIZE,\n",
    "               OUTPUT_SIZE,\n",
    "               device = DEVICE,\n",
    "               dtype = torch.float,\n",
    "               requires_grad = False)\n",
    "w1 = torch.randn(INPUT_SIZE,\n",
    "                HIDDEN_SIZE,\n",
    "                device = DEVICE,\n",
    "                dtype = torch.float,\n",
    "                requires_grad = True)\n",
    "w2 = torch.randn(HIDDEN_SIZE,\n",
    "                OUTPUT_SIZE,\n",
    "                device = DEVICE,\n",
    "                dtype = torch.float,\n",
    "                requires_grad = True)"
   ]
  },
  {
   "cell_type": "markdown",
   "metadata": {},
   "source": [
    "- learning_rate는 경사하강법에서 gradient에 break를 주는 것"
   ]
  },
  {
   "cell_type": "code",
   "execution_count": 4,
   "metadata": {},
   "outputs": [
    {
     "name": "stdout",
     "output_type": "stream",
     "text": [
      "Iteration:  100 \t Loss:  518.716064453125\n",
      "Iteration:  200 \t Loss:  2.6068835258483887\n",
      "Iteration:  300 \t Loss:  0.026561588048934937\n",
      "Iteration:  400 \t Loss:  0.0006639282219111919\n",
      "Iteration:  500 \t Loss:  8.776868344284594e-05\n"
     ]
    }
   ],
   "source": [
    "learning_rate = 1e-6\n",
    "\n",
    "for t in range(1,501):\n",
    "    # x와 w1을 mm(내적)하고 .clamp(min=0)(relu 함수)적용하여 w2와 .mm(내적)하여 예측값을 뽑음 \n",
    "    y_pred = x.mm(w1).clamp(min=0).mm(w2)\n",
    "    \n",
    "    # 예측값에서 실제값을 빼고 .pow(2) 제곱하여 .sum() 합계내어 loss를 계산 \n",
    "    loss = (y_pred-y).pow(2).sum()\n",
    "    \n",
    "    # 100번 반복할 때마다 반복횟수와 loss 출력\n",
    "    if t % 100 == 0:\n",
    "        print(\"Iteration: \", t, \"\\t\", \"Loss: \", loss.item())\n",
    "    # 계산된 loss값에 각 파라미터들을 back propagation 함 \n",
    "    loss.backward()\n",
    "    \n",
    "    # gradient를 고정하고 \n",
    "    with torch.no_grad():\n",
    "        # 고정한 상태에서 w1의 gradient에 learning_rate를 곱하여 기존 w1에서빼줌 (경사하강법) -> 파라미터 업데이트\n",
    "        w1 -= learning_rate * w1.grad\n",
    "        # 고정한 상태에서 w2의 gradient에 learning_rate를 곱하여 기존 w2에서빼줌 (경사하강법) -> 파라미터 업데이트\n",
    "        w2 -= learning_rate * w2.grad\n",
    "        \n",
    "        # 고정한 상태에서 w1의 gradient를 0으로 초기화\n",
    "        w1.grad.zero_()\n",
    "        # 고정한 상태에서 w2의 gradient를 0으로 초기화\n",
    "        w2.grad.zero_()"
   ]
  },
  {
   "cell_type": "code",
   "execution_count": null,
   "metadata": {},
   "outputs": [],
   "source": []
  }
 ],
 "metadata": {
  "kernelspec": {
   "display_name": "Python 3 (ipykernel)",
   "language": "python",
   "name": "python3"
  },
  "language_info": {
   "codemirror_mode": {
    "name": "ipython",
    "version": 3
   },
   "file_extension": ".py",
   "mimetype": "text/x-python",
   "name": "python",
   "nbconvert_exporter": "python",
   "pygments_lexer": "ipython3",
   "version": "3.8.12"
  }
 },
 "nbformat": 4,
 "nbformat_minor": 4
}
